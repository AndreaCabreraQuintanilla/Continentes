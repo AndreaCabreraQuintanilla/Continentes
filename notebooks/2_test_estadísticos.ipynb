{
 "cells": [
  {
   "cell_type": "markdown",
   "metadata": {},
   "source": [
    "### Pair II\n",
    "# Test Estadísticos"
   ]
  },
  {
   "cell_type": "code",
   "execution_count": 1,
   "metadata": {},
   "outputs": [],
   "source": [
    "# Tratamiento de datos\n",
    "# -----------------------------------------------------------------------\n",
    "import numpy as np\n",
    "import pandas as pd\n",
    "\n",
    "# Gráficos\n",
    "# ------------------------------------------------------------------------------\n",
    "import matplotlib.pyplot as plt\n",
    "import seaborn as sns\n",
    "\n",
    "# Establecer la paleta de color de gráficas\n",
    "# ==================================\n",
    "qualitative_colors = sns.color_palette(\"Spectral\")\n",
    "\n",
    "# Para visualizar todas las columnas\n",
    "# ==================================\n",
    "pd.options.display.max_columns = None\n",
    "\n",
    "# Para la gestión de los warning\n",
    "# ======================\n",
    "import warnings\n",
    "warnings.filterwarnings('ignore')\n",
    "\n",
    "# Testear estadísticos\n",
    "from scipy import stats \n",
    "from scipy.stats import skew   #asimetría\n",
    "from scipy.stats import kurtosistest    #curtosis"
   ]
  },
  {
   "cell_type": "markdown",
   "metadata": {},
   "source": [
    "1. ¿Qué diferencia existe el error de tipo I y el error de tipo II?"
   ]
  },
  {
   "cell_type": "markdown",
   "metadata": {},
   "source": [
    "En el error de tipo I rechazamos H0 cuando es verdeadera, mientras que en el error de tipo II no rechazamos H0, siendo verdadera, es decir, aceptamos la hipótesis nula cuando es verdadera."
   ]
  },
  {
   "cell_type": "markdown",
   "metadata": {},
   "source": [
    "2. ¿Qué es la asimetría?"
   ]
  },
  {
   "cell_type": "markdown",
   "metadata": {},
   "source": [
    "la asimetría es la falta de simetría que presenta una distribución teniendo en cuenta la media. Una distribución asimétrica puede tener una curva sesgada hacía la derecha o la izquierda. \n",
    "\n",
    "La asimetría se puede determinar según la forma en que la media, la mediana y la moda de una distribución se relacionan entre sí. Podemos tener: \n",
    "\n",
    "- **Distribuciones asimetricas positivas**: Cuando la media es mayor que la mediana y la moda.\n",
    "\n",
    "\n",
    "\n",
    "- **Distribuciones asimetricas negativas**: Cuando la media es menor que la mediana y la moda.\t\n",
    "\n",
    "\n",
    "\n",
    "- **Distribuciones simetricas**: Cuando la media es igual a la mediana y la moda."
   ]
  },
  {
   "cell_type": "markdown",
   "metadata": {},
   "source": [
    "3. ¿Es vuestra variable respuesta asimétrica?"
   ]
  },
  {
   "cell_type": "code",
   "execution_count": 2,
   "metadata": {},
   "outputs": [
    {
     "data": {
      "text/html": [
       "<div>\n",
       "<style scoped>\n",
       "    .dataframe tbody tr th:only-of-type {\n",
       "        vertical-align: middle;\n",
       "    }\n",
       "\n",
       "    .dataframe tbody tr th {\n",
       "        vertical-align: top;\n",
       "    }\n",
       "\n",
       "    .dataframe thead th {\n",
       "        text-align: right;\n",
       "    }\n",
       "</style>\n",
       "<table border=\"1\" class=\"dataframe\">\n",
       "  <thead>\n",
       "    <tr style=\"text-align: right;\">\n",
       "      <th></th>\n",
       "      <th>ciudad</th>\n",
       "      <th>pais</th>\n",
       "      <th>continente</th>\n",
       "      <th>salario</th>\n",
       "      <th>cesta_compra</th>\n",
       "      <th>bebidas_super</th>\n",
       "      <th>bebidas_rest</th>\n",
       "      <th>comida_rest</th>\n",
       "      <th>ropa</th>\n",
       "      <th>deportes</th>\n",
       "      <th>cine</th>\n",
       "      <th>marlboro</th>\n",
       "      <th>educacion</th>\n",
       "      <th>transporte</th>\n",
       "      <th>gasolina</th>\n",
       "      <th>vehiculos</th>\n",
       "      <th>internet</th>\n",
       "      <th>movil</th>\n",
       "      <th>gastos_fijos</th>\n",
       "      <th>alquiler</th>\n",
       "      <th>m2</th>\n",
       "      <th>inte_fij_hipo</th>\n",
       "    </tr>\n",
       "  </thead>\n",
       "  <tbody>\n",
       "    <tr>\n",
       "      <th>0</th>\n",
       "      <td>Delhi</td>\n",
       "      <td>India</td>\n",
       "      <td>Asia</td>\n",
       "      <td>586.35</td>\n",
       "      <td>1.602857</td>\n",
       "      <td>3.5475</td>\n",
       "      <td>1.592</td>\n",
       "      <td>10.406667</td>\n",
       "      <td>37.7500</td>\n",
       "      <td>14.77</td>\n",
       "      <td>4.90</td>\n",
       "      <td>4.28</td>\n",
       "      <td>73.76</td>\n",
       "      <td>2.834</td>\n",
       "      <td>1.25</td>\n",
       "      <td>17607.475</td>\n",
       "      <td>7.96</td>\n",
       "      <td>0.01</td>\n",
       "      <td>57.37</td>\n",
       "      <td>319.8075</td>\n",
       "      <td>1844.180</td>\n",
       "      <td>7.96</td>\n",
       "    </tr>\n",
       "    <tr>\n",
       "      <th>1</th>\n",
       "      <td>Shanghai</td>\n",
       "      <td>China</td>\n",
       "      <td>Asia</td>\n",
       "      <td>1382.83</td>\n",
       "      <td>3.862857</td>\n",
       "      <td>4.3575</td>\n",
       "      <td>2.022</td>\n",
       "      <td>17.230000</td>\n",
       "      <td>77.7925</td>\n",
       "      <td>38.95</td>\n",
       "      <td>8.38</td>\n",
       "      <td>3.49</td>\n",
       "      <td>1356.63</td>\n",
       "      <td>7.880</td>\n",
       "      <td>1.17</td>\n",
       "      <td>19957.900</td>\n",
       "      <td>16.74</td>\n",
       "      <td>0.03</td>\n",
       "      <td>64.76</td>\n",
       "      <td>1537.2925</td>\n",
       "      <td>13253.985</td>\n",
       "      <td>5.01</td>\n",
       "    </tr>\n",
       "  </tbody>\n",
       "</table>\n",
       "</div>"
      ],
      "text/plain": [
       "     ciudad   pais continente  salario  cesta_compra  bebidas_super  \\\n",
       "0     Delhi  India       Asia   586.35      1.602857         3.5475   \n",
       "1  Shanghai  China       Asia  1382.83      3.862857         4.3575   \n",
       "\n",
       "   bebidas_rest  comida_rest     ropa  deportes  cine  marlboro  educacion  \\\n",
       "0         1.592    10.406667  37.7500     14.77  4.90      4.28      73.76   \n",
       "1         2.022    17.230000  77.7925     38.95  8.38      3.49    1356.63   \n",
       "\n",
       "   transporte  gasolina  vehiculos  internet  movil  gastos_fijos   alquiler  \\\n",
       "0       2.834      1.25  17607.475      7.96   0.01         57.37   319.8075   \n",
       "1       7.880      1.17  19957.900     16.74   0.03         64.76  1537.2925   \n",
       "\n",
       "          m2  inte_fij_hipo  \n",
       "0   1844.180           7.96  \n",
       "1  13253.985           5.01  "
      ]
     },
     "execution_count": 2,
     "metadata": {},
     "output_type": "execute_result"
    }
   ],
   "source": [
    "df = pd.read_pickle(\"../data/cost_of_living_pair1_limpio.pkl\")\n",
    "df.head(2)"
   ]
  },
  {
   "cell_type": "code",
   "execution_count": 3,
   "metadata": {},
   "outputs": [
    {
     "data": {
      "text/plain": [
       "1425.471"
      ]
     },
     "execution_count": 3,
     "metadata": {},
     "output_type": "execute_result"
    }
   ],
   "source": [
    "df[\"salario\"].median()"
   ]
  },
  {
   "cell_type": "code",
   "execution_count": 4,
   "metadata": {},
   "outputs": [
    {
     "data": {
      "text/plain": [
       "1728.3360168397417"
      ]
     },
     "execution_count": 4,
     "metadata": {},
     "output_type": "execute_result"
    }
   ],
   "source": [
    "df[\"salario\"].mean()"
   ]
  },
  {
   "cell_type": "code",
   "execution_count": 5,
   "metadata": {},
   "outputs": [
    {
     "data": {
      "text/plain": [
       "0    1817.033501\n",
       "Name: salario, dtype: float64"
      ]
     },
     "execution_count": 5,
     "metadata": {},
     "output_type": "execute_result"
    }
   ],
   "source": [
    "df[\"salario\"].mode()"
   ]
  },
  {
   "cell_type": "code",
   "execution_count": 6,
   "metadata": {},
   "outputs": [
    {
     "data": {
      "text/plain": [
       "1.4198169892026422"
      ]
     },
     "execution_count": 6,
     "metadata": {},
     "output_type": "execute_result"
    }
   ],
   "source": [
    "df[\"salario\"].skew()"
   ]
  },
  {
   "cell_type": "markdown",
   "metadata": {},
   "source": [
    "Nuestra variable respuesta es asimétrica  positiva porque el valor es positivo, los datos que tenemos son asimétricos positivos y, por lo tanto, no son normales. Además comprobando los valores de la media, la moda y la mediana, observamos que la media es ligeramente mayor que la mediana y la moda. Por lo que la distribución es asimétrica positiva."
   ]
  },
  {
   "cell_type": "markdown",
   "metadata": {},
   "source": [
    "4. ¿Qué tipo de curtosis presenta vuestra variable respuesta?"
   ]
  },
  {
   "cell_type": "code",
   "execution_count": 7,
   "metadata": {},
   "outputs": [
    {
     "data": {
      "text/plain": [
       "0"
      ]
     },
     "execution_count": 7,
     "metadata": {},
     "output_type": "execute_result"
    }
   ],
   "source": [
    "df['salario'].isnull().sum()"
   ]
  },
  {
   "cell_type": "code",
   "execution_count": 8,
   "metadata": {},
   "outputs": [
    {
     "data": {
      "text/plain": [
       "0        586.350000\n",
       "1       1382.830000\n",
       "2        483.190000\n",
       "3        419.020000\n",
       "4       2672.230000\n",
       "           ...     \n",
       "4869    1817.033501\n",
       "4870    1817.033501\n",
       "4871    1540.604000\n",
       "4872    2345.616000\n",
       "4873    1817.033501\n",
       "Name: salario, Length: 4874, dtype: float64"
      ]
     },
     "execution_count": 8,
     "metadata": {},
     "output_type": "execute_result"
    }
   ],
   "source": [
    "df['salario']"
   ]
  },
  {
   "cell_type": "code",
   "execution_count": 9,
   "metadata": {},
   "outputs": [
    {
     "data": {
      "text/plain": [
       "KurtosistestResult(statistic=17.8064402785023, pvalue=6.299075982994147e-71)"
      ]
     },
     "execution_count": 9,
     "metadata": {},
     "output_type": "execute_result"
    }
   ],
   "source": [
    "kurtosistest(df['salario'])"
   ]
  },
  {
   "cell_type": "markdown",
   "metadata": {},
   "source": [
    "Entendiendo que la curtosis es una medida del grado de cuántos valores atípicos hay, para una distribución normal, el valor del estadístico de curtosis es 0. En el caso de nuestra variable respuesta, encontramos una curtosis de tipo leptocurtosis, puesto que el p- < de 0.05. Así que hay evidencias para rechazar H0\n",
    "En una distribución leptocúrtica, los valores de los datos están más concentrados alrededor de la media y hay menos valores atípicos."
   ]
  },
  {
   "cell_type": "markdown",
   "metadata": {},
   "source": [
    "5. ¿Es vuestra variable respuesta normal? Demostrarlo visual y analíticamente."
   ]
  },
  {
   "cell_type": "code",
   "execution_count": 11,
   "metadata": {},
   "outputs": [
    {
     "data": {
      "image/png": "[encoded data removed]",
      "text/plain": [
       "<Figure size 500x500 with 1 Axes>"
      ]
     },
     "metadata": {},
     "output_type": "display_data"
    }
   ],
   "source": [
    "sns.displot(df['salario'], kde = True, color = qualitative_colors[1])\n",
    "plt.savefig(\"../graficas/02_test_normalidad_vr_.png\");"
   ]
  },
  {
   "cell_type": "markdown",
   "metadata": {},
   "source": [
    "Nuestra variable respuesta no es normal, ya que presenta una distribución de los valores concentrados en la parte izquierda. Por lo que nuestra variable está sesgada a la derecha."
   ]
  },
  {
   "cell_type": "code",
   "execution_count": 11,
   "metadata": {},
   "outputs": [],
   "source": [
    "df.to_pickle(\"../data/cost_of_living_pair2.pkl\")"
   ]
  }
 ],
 "metadata": {
  "kernelspec": {
   "display_name": "adalabenv",
   "language": "python",
   "name": "python3"
  },
  "language_info": {
   "codemirror_mode": {
    "name": "ipython",
    "version": 3
   },
   "file_extension": ".py",
   "mimetype": "text/x-python",
   "name": "python",
   "nbconvert_exporter": "python",
   "pygments_lexer": "ipython3",
   "version": "3.10.12"
  },
  "orig_nbformat": 4
 },
 "nbformat": 4,
 "nbformat_minor": 2
}
